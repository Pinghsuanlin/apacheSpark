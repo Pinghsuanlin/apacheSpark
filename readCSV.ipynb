{
  "nbformat": 4,
  "nbformat_minor": 0,
  "metadata": {
    "colab": {
      "provenance": []
    },
    "kernelspec": {
      "name": "python3",
      "display_name": "Python 3"
    },
    "language_info": {
      "name": "python"
    }
  },
  "cells": [
    {
      "cell_type": "code",
      "execution_count": null,
      "metadata": {
        "colab": {
          "base_uri": "https://localhost:8080/"
        },
        "id": "j5tBRX80RJB8",
        "outputId": "9b14c488-03bd-484b-d790-495e23d8274f"
      },
      "outputs": [
        {
          "output_type": "stream",
          "name": "stdout",
          "text": [
            "Mounted at /content/gdrive\n"
          ]
        }
      ],
      "source": [
        "from google.colab import drive\n",
        "drive.mount('/content/gdrive')"
      ]
    },
    {
      "cell_type": "code",
      "source": [
        "#Setting up PySpark in Colab\n",
        "!pip install pyspark"
      ],
      "metadata": {
        "colab": {
          "base_uri": "https://localhost:8080/"
        },
        "id": "37lvmQ2ocOcv",
        "outputId": "8cce8412-fcfe-4ac2-97e7-29a5e2abbc94"
      },
      "execution_count": null,
      "outputs": [
        {
          "output_type": "stream",
          "name": "stdout",
          "text": [
            "Collecting pyspark\n",
            "  Downloading pyspark-3.2.1.tar.gz (281.4 MB)\n",
            "\u001b[K     |████████████████████████████████| 281.4 MB 28 kB/s \n",
            "\u001b[?25hCollecting py4j==0.10.9.3\n",
            "  Downloading py4j-0.10.9.3-py2.py3-none-any.whl (198 kB)\n",
            "\u001b[K     |████████████████████████████████| 198 kB 50.4 MB/s \n",
            "\u001b[?25hBuilding wheels for collected packages: pyspark\n",
            "  Building wheel for pyspark (setup.py) ... \u001b[?25l\u001b[?25hdone\n",
            "  Created wheel for pyspark: filename=pyspark-3.2.1-py2.py3-none-any.whl size=281853642 sha256=eafd146a19e4ccf21fe32e668b913071a36117a66ba34941997100bc11e0bdcb\n",
            "  Stored in directory: /root/.cache/pip/wheels/9f/f5/07/7cd8017084dce4e93e84e92efd1e1d5334db05f2e83bcef74f\n",
            "Successfully built pyspark\n",
            "Installing collected packages: py4j, pyspark\n",
            "Successfully installed py4j-0.10.9.3 pyspark-3.2.1\n"
          ]
        }
      ]
    },
    {
      "cell_type": "code",
      "source": [
        "#Initialize PySpark Session\n",
        "from pyspark.sql import SparkSession\n",
        "\n",
        "spark = SparkSession.builder\\\n",
        "        .master(\"local\")\\\n",
        "        .appName(\"Colab\")\\\n",
        "        .config('spark.ui.port', '4050')\\\n",
        "        .getOrCreate()"
      ],
      "metadata": {
        "id": "Y2U7sPh1dFff"
      },
      "execution_count": null,
      "outputs": []
    },
    {
      "cell_type": "code",
      "source": [
        "spark"
      ],
      "metadata": {
        "colab": {
          "base_uri": "https://localhost:8080/",
          "height": 219
        },
        "id": "Qu1N2o7ZdV0F",
        "outputId": "fb582ac3-f019-444d-d425-442824f75d9f"
      },
      "execution_count": null,
      "outputs": [
        {
          "output_type": "execute_result",
          "data": {
            "text/plain": [
              "<pyspark.sql.session.SparkSession at 0x7fea46553650>"
            ],
            "text/html": [
              "\n",
              "            <div>\n",
              "                <p><b>SparkSession - in-memory</b></p>\n",
              "                \n",
              "        <div>\n",
              "            <p><b>SparkContext</b></p>\n",
              "\n",
              "            <p><a href=\"http://ecce5d656cc2:4050\">Spark UI</a></p>\n",
              "\n",
              "            <dl>\n",
              "              <dt>Version</dt>\n",
              "                <dd><code>v3.2.1</code></dd>\n",
              "              <dt>Master</dt>\n",
              "                <dd><code>local</code></dd>\n",
              "              <dt>AppName</dt>\n",
              "                <dd><code>Colab</code></dd>\n",
              "            </dl>\n",
              "        </div>\n",
              "        \n",
              "            </div>\n",
              "        "
            ]
          },
          "metadata": {},
          "execution_count": 7
        }
      ]
    },
    {
      "cell_type": "code",
      "source": [
        "#Loading data into PySpark DataFrame\n",
        "df = spark.read.csv('/content/gdrive/MyDrive/crunchbase_odm_orgs.csv', header=True)\n"
      ],
      "metadata": {
        "id": "9uiEFHO0eH_7"
      },
      "execution_count": null,
      "outputs": []
    },
    {
      "cell_type": "code",
      "source": [
        "#Data Exploration with PySpark DF\n",
        "df.show(10)"
      ],
      "metadata": {
        "colab": {
          "base_uri": "https://localhost:8080/"
        },
        "id": "ZaJab_xUkyH1",
        "outputId": "806ed803-56e6-4b9f-d63e-04f0b30a4dd3"
      },
      "execution_count": null,
      "outputs": [
        {
          "output_type": "stream",
          "name": "stdout",
          "text": [
            "+--------------------+--------------------+------------+------------+--------------------+-------------+--------------------+--------------------+--------------------+--------------------+--------------------+----------------------+--------------+----------+------------+--------------------+\n",
            "|                uuid|                name|        type|primary_role|              cb_url|       domain|        homepage_url|            logo_url|        facebook_url|         twitter_url|        linkedin_url|combined_stock_symbols|          city|    region|country_code|   short_description|\n",
            "+--------------------+--------------------+------------+------------+--------------------+-------------+--------------------+--------------------+--------------------+--------------------+--------------------+----------------------+--------------+----------+------------+--------------------+\n",
            "|e1393508-30ea-8a3...|            Wetpaint|organization|     company|https://www.crunc...| wetpaint.com|http://www.wetpai...|https://res.cloud...|https://www.faceb...|https://twitter.c...|https://www.linke...|                  null|      New York|  New York|         USA|Wetpaint offers a...|\n",
            "|bf4d7b0e-b34d-2fd...|                Zoho|organization|     company|https://www.crunc...|     zoho.com|https://www.zoho....|https://res.cloud...|http://www.facebo...|http://twitter.co...|http://www.linked...|                  null|    Pleasanton|California|         USA|Zoho offers a sui...|\n",
            "|5f2b40b8-d1b3-d32...|                Digg|organization|     company|https://www.crunc...|     digg.com| http://www.digg.com|https://res.cloud...|http://www.facebo...|http://twitter.co...|http://www.linked...|                  null|      New York|  New York|         USA|Digg Inc. operate...|\n",
            "|df662812-7f97-0b4...|            Facebook|organization|     company|https://www.crunc...| facebook.com|http://www.facebo...|https://res.cloud...|https://www.faceb...|https://twitter.c...|http://www.linked...|             nasdaq:FB|    Menlo Park|California|         USA|Facebook is an on...|\n",
            "|b08efc27-da40-505...|               Accel|organization|    investor|https://www.crunc...|    accel.com|http://www.accel.com|https://res.cloud...|http://www.facebo...|http://twitter.co...|https://www.linke...|                  null|     Palo Alto|California|         USA|Accel is an early...|\n",
            "|60485007-8856-bba...|           Omnidrive|organization|     company|https://www.crunc...|omnidrive.com|http://www.omnidr...|https://res.cloud...|http://www.facebo...|http://twitter.co...|                null|                  null|     Palo Alto|California|         USA|Omnidrive provide...|\n",
            "|4111dc8b-c0df-2d2...|                Geni|organization|     company|https://www.crunc...|     geni.com| http://www.geni.com|https://res.cloud...|https://www.faceb...|http://twitter.co...|https://www.linke...|                  null|West Hollywood|California|         USA|Geni is an online...|\n",
            "|180ebf67-68d0-231...|             Flektor|organization|     company|https://www.crunc...|  flektor.com|http://www.flekto...|https://res.cloud...|                null|                null|                null|                  null|   Culver City|California|         USA|Flektor is a mash...|\n",
            "|d70777cc-14bd-241...|Fox Interactive M...|organization|     company|https://www.crunc...|      fox.com|https://www.fox.com/|https://res.cloud...|                null|                null|https://www.linke...|                  null| Beverly Hills|California|         USA|Fox Interactive M...|\n",
            "|5da6106f-0d27-0d3...|             Twitter|organization|     company|https://www.crunc...|  twitter.com|http://www.twitte...|https://res.cloud...|https://www.faceb...|http://twitter.co...|http://www.linked...|             nyse:TWTR| San Francisco|California|         USA|Twitter is a soci...|\n",
            "+--------------------+--------------------+------------+------------+--------------------+-------------+--------------------+--------------------+--------------------+--------------------+--------------------+----------------------+--------------+----------+------------+--------------------+\n",
            "only showing top 10 rows\n",
            "\n"
          ]
        }
      ]
    },
    {
      "cell_type": "code",
      "source": [
        "df.count()"
      ],
      "metadata": {
        "colab": {
          "base_uri": "https://localhost:8080/"
        },
        "id": "6aow_lVfk-gl",
        "outputId": "3809024d-46c7-44bb-9f70-2c023500d16b"
      },
      "execution_count": null,
      "outputs": [
        {
          "output_type": "execute_result",
          "data": {
            "text/plain": [
              "1127735"
            ]
          },
          "metadata": {},
          "execution_count": 17
        }
      ]
    },
    {
      "cell_type": "code",
      "source": [
        "from pyspark.conf import SparkConf\n",
        "from pyspark import SparkContext\n",
        "from pyspark.sql import SQLContext"
      ],
      "metadata": {
        "id": "KX4wZndolhm9"
      },
      "execution_count": null,
      "outputs": []
    },
    {
      "cell_type": "code",
      "source": [
        "#sc = SparkContext()\n",
        "sc = SparkContext.getOrCreate()\n",
        "config = sc.getConf()\n",
        "config.set('spark.cores.max','4')\n",
        "config.set('spark.executor.memory', '8G')\n",
        "config.set('spark.driver.maxResultSize', '8g')\n",
        "config.set('spark.kryoserializer.buffer.max', '512m')\n",
        "config.set(\"spark.driver.cores\", \"4\")\n",
        "\n",
        "sc.stop()"
      ],
      "metadata": {
        "id": "z8Ml_8dalh0V"
      },
      "execution_count": null,
      "outputs": []
    },
    {
      "cell_type": "code",
      "source": [
        "sc = SparkContext(conf = config)\n",
        "sqlContext = SQLContext(sc)\n",
        "print(\"Using Apache Spark Version\", sc.version)"
      ],
      "metadata": {
        "colab": {
          "base_uri": "https://localhost:8080/"
        },
        "id": "TkVJssp2oV2m",
        "outputId": "de91d614-0f62-4128-e397-f68db05cd4ef"
      },
      "execution_count": null,
      "outputs": [
        {
          "output_type": "stream",
          "name": "stdout",
          "text": [
            "Using Apache Spark Version 3.2.1\n"
          ]
        },
        {
          "output_type": "stream",
          "name": "stderr",
          "text": [
            "/usr/local/lib/python3.7/dist-packages/pyspark/sql/context.py:79: FutureWarning: Deprecated in 3.0.0. Use SparkSession.builder.getOrCreate() instead.\n",
            "  FutureWarning\n"
          ]
        }
      ]
    },
    {
      "cell_type": "code",
      "source": [
        "cb_file = \"/content/gdrive/MyDrive/crunchbase_odm_orgs.csv\""
      ],
      "metadata": {
        "id": "b_RllN2-od6a"
      },
      "execution_count": null,
      "outputs": []
    },
    {
      "cell_type": "code",
      "source": [
        "cb_sdf = sqlContext.read.option(\"header\", \"true\").option(\"delimiter\", \",\").option(\"inferSchema\", \"true\").csv(cb_file)\n",
        "cb_sdf.count()"
      ],
      "metadata": {
        "colab": {
          "base_uri": "https://localhost:8080/"
        },
        "id": "vHKZV2kFojdx",
        "outputId": "0e5a6795-51e6-4682-f765-00094ab1fbed"
      },
      "execution_count": null,
      "outputs": [
        {
          "output_type": "execute_result",
          "data": {
            "text/plain": [
              "1127735"
            ]
          },
          "metadata": {},
          "execution_count": 34
        }
      ]
    },
    {
      "cell_type": "code",
      "source": [
        "cb_sdf = sqlContext.read.format(\"csv\") \\\n",
        "                        .options(header='true', inferschema='true', treatEmptyValuesAsNulls='true') \\\n",
        "                        .load(cb_file)\n",
        "cb_sdf.count()"
      ],
      "metadata": {
        "colab": {
          "base_uri": "https://localhost:8080/"
        },
        "id": "KdUFTYyYpJTS",
        "outputId": "3a0bd80b-59e1-4f81-b129-48b072a1db28"
      },
      "execution_count": null,
      "outputs": [
        {
          "output_type": "execute_result",
          "data": {
            "text/plain": [
              "1127735"
            ]
          },
          "metadata": {},
          "execution_count": 35
        }
      ]
    },
    {
      "cell_type": "code",
      "source": [
        "#1. Find all entities with the name that starts with a letter \"F\" (e.g. Facebook, etc.):\n",
        "#print the count show() the resulting Spark DataFrame\n",
        "cb_sdf_F = cb_sdf.filter(cb_sdf.name.startswith('F'))\n",
        "\n",
        "print(cb_sdf_F.show())\n",
        "print(\"There's\", cb_sdf_F.count(), \"with the name that starts with a letter 'F'.\")"
      ],
      "metadata": {
        "colab": {
          "base_uri": "https://localhost:8080/"
        },
        "id": "0iOx35iYkLf9",
        "outputId": "7f2fee5c-f657-43ef-cfbf-afdbb83c3d0b"
      },
      "execution_count": null,
      "outputs": [
        {
          "output_type": "stream",
          "name": "stdout",
          "text": [
            "+--------------------+--------------------+------------+------------+--------------------+--------------------+--------------------+--------------------+--------------------+--------------------+--------------------+----------------------+-------------+-------------+------------+--------------------+\n",
            "|                uuid|                name|        type|primary_role|              cb_url|              domain|        homepage_url|            logo_url|        facebook_url|         twitter_url|        linkedin_url|combined_stock_symbols|         city|       region|country_code|   short_description|\n",
            "+--------------------+--------------------+------------+------------+--------------------+--------------------+--------------------+--------------------+--------------------+--------------------+--------------------+----------------------+-------------+-------------+------------+--------------------+\n",
            "|df662812-7f97-0b4...|            Facebook|organization|     company|https://www.crunc...|        facebook.com|http://www.facebo...|https://res.cloud...|https://www.faceb...|https://twitter.c...|http://www.linked...|             nasdaq:FB|   Menlo Park|   California|         USA|Facebook is an on...|\n",
            "|180ebf67-68d0-231...|             Flektor|organization|     company|https://www.crunc...|         flektor.com|http://www.flekto...|https://res.cloud...|                null|                null|                null|                  null|  Culver City|   California|         USA|Flektor is a mash...|\n",
            "|d70777cc-14bd-241...|Fox Interactive M...|organization|     company|https://www.crunc...|             fox.com|https://www.fox.com/|https://res.cloud...|                null|                null|https://www.linke...|                  null|Beverly Hills|   California|         USA|Fox Interactive M...|\n",
            "|622e63a9-147d-c53...|        Funny Or Die|organization|     company|https://www.crunc...|      funnyordie.com|http://funnyordie...|https://res.cloud...|http://www.facebo...|http://twitter.co...|https://www.linke...|                  null|    San Mateo|   California|         USA|Funny Or Die is a...|\n",
            "|5c6f4d9e-dc72-e01...|            Farecast|organization|     company|https://www.crunc...|        farecast.com|http://www.fareca...|https://res.cloud...|                null|http://twitter.co...|                null|                  null|      Seattle|   Washington|         USA|Farecast is an on...|\n",
            "|c750db1b-559a-058...|              Flickr|organization|     company|https://www.crunc...|          flickr.com|http://www.flickr...|https://res.cloud...|http://www.facebo...|http://twitter.co...|http://www.linked...|                  null|    Sunnyvale|   California|         USA|Flickr is an onli...|\n",
            "|eca38df1-1c83-e9f...|             FlickIM|organization|     company|https://www.crunc...| outfittershaven.com|http://www.outfit...|https://res.cloud...|                null|http://twitter.co...|                null|                  null|     Berkeley|   California|         USA|FlickIM is an IM ...|\n",
            "|c3772a88-7696-a8e...|            Flixster|organization|     company|https://www.crunc...|        flixster.com|http://www.flixst...|https://res.cloud...|                null|http://twitter.co...|https://www.linke...|                  null|San Francisco|   California|         USA|Flixster is a mov...|\n",
            "|e84e93ea-a32f-cc2...|              Fandom|organization|     company|https://www.crunc...|          fandom.com|https://www.fando...|https://res.cloud...|https://www.faceb...|https://twitter.c...|https://www.linke...|                  null|San Francisco|   California|         USA|Fandom is a globa...|\n",
            "|6085a95d-a87f-a35...|            Faketown|organization|     company|https://www.crunc...|        faketown.com|http://www.faketo...|https://res.cloud...|https://www.faceb...|                null|https://www.linke...|                  null|       Venice|   California|         USA|Faketown is a 2D ...|\n",
            "|e01aaf68-c7f1-7d2...|          Forbes.com|organization|     company|https://www.crunc...|          forbes.com|http://www.forbes...|https://res.cloud...|http://www.facebo...|http://twitter.co...|http://www.linked...|                  null|     New York|     New York|         USA|Forbes.com is the...|\n",
            "|886dac3f-800a-9b5...|         Flock, Inc.|organization|     company|https://www.crunc...|           flock.com|   https://flock.com|https://res.cloud...|                null|                null|                null|                  null|   Menlo Park|   California|         USA|Flock is a web br...|\n",
            "|f8af0817-50c5-0b9...|            Filtrbox|organization|     company|https://www.crunc...|        filtrbox.com|http://www.filtrb...|https://res.cloud...|                null|                null|                null|                  null|    Palo Alto|   California|         USA|Filtrbox provides...|\n",
            "|e8802b0d-823c-c17...|            FilmLoop|organization|     company|https://www.crunc...|        filmloop.com|http://www.filmlo...|https://res.cloud...|                null|                null|                null|                  null|    Palo Alto|   California|         USA|FilmLoop provides...|\n",
            "|2a5fa1db-4075-04f...|          Friendster|organization|     company|https://www.crunc...|      friendster.com|http://www.friend...|https://res.cloud...|http://www.facebo...|http://twitter.co...|https://www.linke...|                  null|       Makati|       Manila|         PHL|Friendster is a s...|\n",
            "|3ac6ffe9-ac88-f83...|       Fathom Online|organization|     company|https://www.crunc...|    fathomonline.com|http://fathomonli...|https://res.cloud...|                null|                null|                null|                  null|San Francisco|   California|         USA|Fathom Online pro...|\n",
            "|a5a7b65f-e8b1-8a2...|               Frazr|organization|     company|https://www.crunc...|           frazr.com|http://www.frazr.com|https://res.cloud...|https://www.faceb...|https://twitter.c...|https://id.linked...|                  null|   Banyuwangi|       Banten|         IDN|Frazr is a Europe...|\n",
            "|47f68451-c829-864...|             Fotolog|organization|     company|https://www.crunc...|         fotolog.com|http://www.fotolo...|https://res.cloud...|http://www.facebo...|http://twitter.co...|                null|                  null|    Barcelona|    Catalonia|         ESP|Fotolog is a soci...|\n",
            "|b168d7b4-784e-6f1...|    Friends Reunited|organization|     company|https://www.crunc...|friendsreunited.c...|http://www.friend...|https://res.cloud...|https://www.faceb...|http://twitter.co...|                null|                  null|       London|      England|         GBR|Friends Reunited ...|\n",
            "|099de4c9-a587-89e...|            Finetune|organization|     company|https://www.crunc...|        finetune.com| http://finetune.com|https://res.cloud...|                null|http://twitter.co...|                null|                  null|       Newton|Massachusetts|         USA|Finetune is a Fla...|\n",
            "+--------------------+--------------------+------------+------------+--------------------+--------------------+--------------------+--------------------+--------------------+--------------------+--------------------+----------------------+-------------+-------------+------------+--------------------+\n",
            "only showing top 20 rows\n",
            "\n",
            "None\n",
            "There's 40601 with the name that starts with a letter 'F'.\n"
          ]
        }
      ]
    },
    {
      "cell_type": "code",
      "source": [
        "#2. Find all entities located in New York City:\n",
        "#print the count and show() the resulting Spark DataFrame\n",
        "cb_sdf_NY = cb_sdf.filter(cb_sdf['city'] == 'New York')\n",
        "\n",
        "print(cb_sdf_NY.show())\n",
        "print(\"There's\", cb_sdf_NY.count(), \"entities located in New York City.\")"
      ],
      "metadata": {
        "colab": {
          "base_uri": "https://localhost:8080/"
        },
        "id": "0OnRL7eRkLrO",
        "outputId": "51037b52-3020-4687-be37-1439306a99e6"
      },
      "execution_count": null,
      "outputs": [
        {
          "output_type": "stream",
          "name": "stdout",
          "text": [
            "+--------------------+--------------------+------------+------------+--------------------+-------------------+--------------------+--------------------+--------------------+--------------------+--------------------+----------------------+--------+--------+------------+--------------------+\n",
            "|                uuid|                name|        type|primary_role|              cb_url|             domain|        homepage_url|            logo_url|        facebook_url|         twitter_url|        linkedin_url|combined_stock_symbols|    city|  region|country_code|   short_description|\n",
            "+--------------------+--------------------+------------+------------+--------------------+-------------------+--------------------+--------------------+--------------------+--------------------+--------------------+----------------------+--------+--------+------------+--------------------+\n",
            "|e1393508-30ea-8a3...|            Wetpaint|organization|     company|https://www.crunc...|       wetpaint.com|http://www.wetpai...|https://res.cloud...|https://www.faceb...|https://twitter.c...|https://www.linke...|                  null|New York|New York|         USA|Wetpaint offers a...|\n",
            "|5f2b40b8-d1b3-d32...|                Digg|organization|     company|https://www.crunc...|           digg.com| http://www.digg.com|https://res.cloud...|http://www.facebo...|http://twitter.co...|http://www.linked...|                  null|New York|New York|         USA|Digg Inc. operate...|\n",
            "|56b5f0c1-855f-2eb...|              Gizmoz|organization|     company|https://www.crunc...|         gizmoz.com|   http://gizmoz.com|https://res.cloud...|                null|                null|                null|                  null|New York|New York|         USA|Gizmoz develops p...|\n",
            "|b528bd22-cce5-c60...|             MeetMoi|organization|     company|https://www.crunc...|        meetmoi.com|http://www.meetmo...|https://res.cloud...|                null|http://twitter.co...|                null|                  null|New York|New York|         USA|MeetMoi is a loca...|\n",
            "|90e234e5-c045-f85...|               Joost|organization|     company|https://www.crunc...|          joost.com|    http://joost.com|https://res.cloud...|                null|                null|                null|                  null|New York|New York|         USA|Joost is an inter...|\n",
            "|f09c1228-2e7d-188...|                 CBS|organization|     company|https://www.crunc...|            cbs.com|  http://www.cbs.com|https://res.cloud...|                null|                null|                null|                  null|New York|New York|         USA|CBS is an online ...|\n",
            "|4522b60d-0b04-827...|              Viacom|organization|     company|https://www.crunc...|         viacom.com|http://www.viacom...|https://res.cloud...|http://www.facebo...|http://twitter.co...|https://www.linke...|           nasdaq:VIAB|New York|New York|         USA|Viacom is an Amer...|\n",
            "|1bd1698c-cd0f-37b...|         Time Warner|organization|     company|https://www.crunc...|     timewarner.com|http://www.timewa...|https://res.cloud...|https://www.faceb...|https://twitter.c...|https://www.linke...|              nyse:TWX|New York|New York|         USA|Time Warner is a ...|\n",
            "|30b3efdf-6024-804...|       Goldman Sachs|organization|    investor|https://www.crunc...|   goldmansachs.com|http://www.goldma...|https://res.cloud...|https://www.faceb...|http://twitter.co...|http://www.linked...|               nyse:GS|New York|New York|         USA|Goldman Sachs is ...|\n",
            "|e867f917-49f4-717...|     Jingle Networks|organization|     company|https://www.crunc...| jinglenetworks.com|http://jinglenetw...|https://res.cloud...|https://www.faceb...|http://twitter.co...|                null|                  null|New York|New York|         USA|Jingle Networks i...|\n",
            "|3f2b5885-4257-0d7...|Hearst Communicat...|organization|     company|https://www.crunc...|         hearst.com|http://www.hearst...|https://res.cloud...|https://www.faceb...|https://twitter.c...|https://www.linke...|                  null|New York|New York|         USA|Hearst is large p...|\n",
            "|027a72da-6ad5-1e9...|          Livestream|organization|     company|https://www.crunc...|     livestream.com|https://livestrea...|https://res.cloud...|https://www.faceb...|https://twitter.c...|https://www.linke...|                  null|New York|New York|         USA|Livestream offers...|\n",
            "|93ef5a7c-8369-f25...|     CriticalMetrics|organization|     company|https://www.crunc...|criticalmetrics.com|http://www.critic...|https://res.cloud...|                null|                null|                null|                  null|New York|New York|         USA|    Critical Metrics|\n",
            "|a4aa27bd-c688-65b...|        NBCUniversal|organization|     company|https://www.crunc...|   nbcuniversal.com|http://www.nbcuni...|https://res.cloud...|https://www.faceb...|http://www.twitte...|https://www.linke...|                  null|New York|New York|         USA|NBCUniversal is a...|\n",
            "|9424e721-4ebf-90c...|            Surphace|organization|     company|https://www.crunc...|       surphace.com| http://surphace.com|https://res.cloud...|https://www.faceb...|http://twitter.co...|                null|                  null|New York|New York|         USA|Surphace provides...|\n",
            "|dcc53901-5c7d-dc0...|            KickApps|organization|     company|https://www.crunc...|       kickapps.com|http://www.kickap...|https://res.cloud...|                null|http://twitter.co...|http://www.linked...|                  null|New York|New York|         USA|KickApps is a soc...|\n",
            "|61fe112e-e4fc-0fa...|       Seeking Alpha|organization|     company|https://www.crunc...|   seekingalpha.com|https://seekingal...|https://res.cloud...|https://www.faceb...|https://twitter.c...|https://www.linke...|                  null|New York|New York|         USA|Seeking Alpha is ...|\n",
            "|8c6fc14a-ff57-b7c...|            revlayer|organization|     company|https://www.crunc...|       revlayer.com| http://revlayer.com|https://res.cloud...|                null|                null|                null|                  null|New York|New York|         USA|revlayer offers i...|\n",
            "|0fb367a3-3d1e-730...|     Lehman Brothers|organization|     company|https://www.crunc...|         lehman.com|http://www.lehman...|https://res.cloud...|                null|                null|https://www.linke...|                  null|New York|New York|         USA|Lehman Brothers w...|\n",
            "|505791a5-3533-333...|             WikiYou|organization|     company|https://www.crunc...|        wikiyou.com|http://www.wikiyo...|https://res.cloud...|                null|                null|                null|                  null|New York|New York|         USA|WikiYou is a wiki...|\n",
            "+--------------------+--------------------+------------+------------+--------------------+-------------------+--------------------+--------------------+--------------------+--------------------+--------------------+----------------------+--------+--------+------------+--------------------+\n",
            "only showing top 20 rows\n",
            "\n",
            "None\n",
            "There's 27032 entities located in New York City.\n"
          ]
        }
      ]
    },
    {
      "cell_type": "code",
      "source": [
        "#3. Add a \"Blog\" column to the DataFrame with the row entries set to 1 if the \"domain\" field contains \"blogspot.com\", and 0 otherwise.\n",
        "  #show() only the records with the \"Blog\" field marked as 1\n",
        "from pyspark.sql.functions import when, lit\n",
        "#cb_sdf.filter(cb_sdf['domain'] == 'blogspot.com').show()\n",
        "\n",
        "cb_sdf_Blog = cb_sdf.withColumn(\"Blog\", when((cb_sdf.domain.contains('blogspot.com')), lit(\"1\")).otherwise(lit(\"0\")))\n",
        "cb_sdf_Blog.where(cb_sdf_Blog.Blog=='1').show()\n",
        "\n",
        "#Source: https://sparkbyexamples.com/pyspark/pyspark-add-new-column-to-dataframe/#:~:text=Add%20New%20Column%20with%20Constant%20Value%20In%20PySpark%2C,add%20a%20NULL%20%2F%20None%20use%20lit%20%28None%29.\n"
      ],
      "metadata": {
        "colab": {
          "base_uri": "https://localhost:8080/"
        },
        "id": "yu_1a05okL4H",
        "outputId": "94b39162-83a3-49fe-9a1b-f9825088b6bd"
      },
      "execution_count": null,
      "outputs": [
        {
          "output_type": "stream",
          "name": "stdout",
          "text": [
            "+--------------------+--------------------+------------+------------+--------------------+--------------------+--------------------+--------------------+--------------------+--------------------+--------------------+----------------------+-------------+------------+------------+--------------------+----+\n",
            "|                uuid|                name|        type|primary_role|              cb_url|              domain|        homepage_url|            logo_url|        facebook_url|         twitter_url|        linkedin_url|combined_stock_symbols|         city|      region|country_code|   short_description|Blog|\n",
            "+--------------------+--------------------+------------+------------+--------------------+--------------------+--------------------+--------------------+--------------------+--------------------+--------------------+----------------------+-------------+------------+------------+--------------------+----+\n",
            "|783b2aa6-7742-69e...|     Sad Urdu Poetry|organization|     company|https://www.crunc...|urdupoetryluvers....|https://urdupoetr...|https://res.cloud...|http://www.facebo...|http://twitter.co...|                null|                  null|  San Antonio|       Texas|         USA|In this blog you ...|   1|\n",
            "|04d01884-5a97-659...|      The Tech-Freak|organization|     company|https://www.crunc...|thetech-freak.blo...|https://thetech-f...|https://res.cloud...|                null|                null|                null|                  null|    Sheffield|   Sheffield|         GBR|Here, you will ge...|   1|\n",
            "|add92473-75da-f33...|           Ma.Gnolia|organization|     company|https://www.crunc...|grydinin.blogspot...|https://grydinin....|https://res.cloud...|https://www.faceb...|https://twitter.c...|                null|                  null|San Francisco|  California|         USA|Ma.Gnolia is an o...|   1|\n",
            "|79bb965b-96e5-331...|      Dynasty Online|organization|     company|https://www.crunc...|dynasty-series.bl...|http://www.dynast...|                null|                null|                null|                null|                  null|         null|        null|        null|Dynasty Online is...|   1|\n",
            "|17f606ea-7b28-454...|            Hire-seo|organization|     company|https://www.crunc...|hello-seo.blogspo...|http://hello-seo....|https://res.cloud...|https://www.faceb...|                null|                null|                  null|         null|        null|        null|Search Engine Opt...|   1|\n",
            "|42676562-6a0a-900...|          YelloYello|organization|     company|https://www.crunc...|dailytechmonde.bl...|https://dailytech...|https://res.cloud...|                null|                null|                null|                  null|     Rijswijk|Zuid-Holland|         NLD|YelloYello offers...|   1|\n",
            "|4712c024-7891-c5b...|       Youtubehiphop|organization|     company|https://www.crunc...|youtubehiphop.blo...|http://youtubehip...|https://res.cloud...|                null|http://twitter.co...|                null|                  null|    São Paulo|   Sao Paulo|         BRA|Hiphop news, mp3 ...|   1|\n",
            "|f725a645-0161-8c1...|     Payday advances|organization|     company|https://www.crunc...|thepaydayadvances...|http://thepaydaya...|https://res.cloud...|                null|                null|                null|                  null|         null|        null|        null|Payday advances, ...|   1|\n",
            "|95f0ddf4-bf03-2b6...|Blog Traffic Exch...|organization|     company|https://www.crunc...|pettlepop.blogspo...|http://pettlepop....|https://res.cloud...|                null|http://twitter.co...|                null|                  null|   Menlo Park|  California|         USA|Blog Traffic Exch...|   1|\n",
            "|7128c0b4-d30f-472...|Sirius Forex Trad...|organization|     company|https://www.crunc...|forex-8022.blogsp...|http://forex-8022...|https://res.cloud...|http://www.facebo...|http://twitter.co...|http://www.linked...|                  null|         null|        null|        null|Currency trading ...|   1|\n",
            "|bec30065-9d9e-0a9...|          Utilsforge|organization|     company|https://www.crunc...|utilsforge.blogsp...|http://utilsforge...|                null|                null|                null|                null|                  null|     Delaware|        Ohio|         USA|Utilsforge is a s...|   1|\n",
            "|93301a6c-1c28-d63...|      Discover India|organization|     company|https://www.crunc...|discover-of-india...|http://discover-o...|                null|http://www.facebo...|http://twitter.co...|                null|                  null|    Faridabad|     Haryana|         IND|Discover India ta...|   1|\n",
            "|fea16ec3-807c-97f...|   Latest Home Decor|organization|     company|https://www.crunc...|latesthomedecor.b...|http://latesthome...|https://res.cloud...|                null|                null|                null|                  null|         null|        null|        null|All about the lat...|   1|\n",
            "|63cf8ff1-f618-a8a...|Sanguinet Consulting|organization|     company|https://www.crunc...|herdinstincts.blo...|http://herdinstin...|                null|                null|                null|                null|                  null|San Francisco|  California|         USA|Sanguinet Consult...|   1|\n",
            "|628c51f2-06e3-865...|  john kenneth rosel|organization|     company|https://www.crunc...|johnkennethroselm...|http://johnkennet...|https://res.cloud...|https://www.faceb...|http://twitter.co...|                null|                  null|San Francisco|  California|         USA|john kenneth rose...|   1|\n",
            "|cf970801-c6e0-7ba...|Web Solution Prov...|organization|     company|https://www.crunc...|snap.blogspot.blo...|http://www.snap.b...|                null|                null|                null|                null|                  null|         null|        null|        null|Web Development a...|   1|\n",
            "|e3ae629f-2252-200...|Walking Ants Tech...|organization|     company|https://www.crunc...|walkingants.blogs...|http://walkingant...|                null|                null|                null|                null|                  null|         null|        null|        null|Walking Ants Tech...|   1|\n",
            "|0a260da7-03fe-a55...|      BypassFanPages|organization|     company|https://www.crunc...|bypassfanpages.bl...|http://bypassfanp...|https://res.cloud...|http://www.facebo...|                null|                null|                  null|         null|        null|        null|BypassFanPages is...|   1|\n",
            "|2877b716-4c4d-3bb...|      List Australia|organization|     company|https://www.crunc...|australianlists.b...|http://australian...|https://res.cloud...|http://www.facebo...|http://twitter.co...|http://www.linked...|                  null|    Melbourne|    Victoria|         AUS|Largest Australia...|   1|\n",
            "|54c0d50e-3d59-ac8...|NeverAnEmptyGlass...|organization|     company|https://www.crunc...|neveranemptyglass...|http://neveranemp...|https://res.cloud...|http://www.facebo...|http://twitter.co...|http://www.linked...|                  null|   Scottsdale|     Arizona|         USA|Search Engine Opt...|   1|\n",
            "+--------------------+--------------------+------------+------------+--------------------+--------------------+--------------------+--------------------+--------------------+--------------------+--------------------+----------------------+-------------+------------+------------+--------------------+----+\n",
            "only showing top 20 rows\n",
            "\n"
          ]
        }
      ]
    },
    {
      "cell_type": "code",
      "source": [
        "#4. Find all entities with names that are palindromes (name reads the same way forward and reverse, e.g. madam):\n",
        "  #print the count and show() the resulting Spark DataFrame\n",
        "from pyspark.sql.types import BooleanType\n",
        "from pyspark.sql.functions import udf\n",
        "\n",
        "def is_palindrome(entity_name):\n",
        "    if entity_name is None:\n",
        "        return None\n",
        "    else:\n",
        "        return entity_name == entity_name[::-1]"
      ],
      "metadata": {
        "id": "Eg0-ER2mkMJQ"
      },
      "execution_count": null,
      "outputs": []
    },
    {
      "cell_type": "code",
      "source": [
        "spark_udf = udf(is_palindrome, BooleanType())\n",
        "palindrome_df = cb_sdf.withColumn('is_palindrome', spark_udf('name'))\n",
        "palindrome_df = palindrome_df.where(palindrome_df['is_palindrome'])#.select('name', 'is_palindrome')\n",
        "\n",
        "print(palindrome_df.show())\n",
        "print(\"There's\", palindrome_df.count(), \"entities with names that are palindromes.\")\n"
      ],
      "metadata": {
        "colab": {
          "base_uri": "https://localhost:8080/"
        },
        "id": "S438LRqT9PS6",
        "outputId": "d089f279-31b2-4370-c5f7-30200c09bdd7"
      },
      "execution_count": null,
      "outputs": [
        {
          "output_type": "stream",
          "name": "stdout",
          "text": [
            "+--------------------+------+------------+------------+--------------------+---------------+--------------------+--------------------+--------------------+--------------------+--------------------+----------------------+-------------+--------------+------------+--------------------+-------------+\n",
            "|                uuid|  name|        type|primary_role|              cb_url|         domain|        homepage_url|            logo_url|        facebook_url|         twitter_url|        linkedin_url|combined_stock_symbols|         city|        region|country_code|   short_description|is_palindrome|\n",
            "+--------------------+------+------------+------------+--------------------+---------------+--------------------+--------------------+--------------------+--------------------+--------------------+----------------------+-------------+--------------+------------+--------------------+-------------+\n",
            "|ae1ec5c5-5352-cd5...| KAYAK|organization|     company|https://www.crunc...|      kayak.com|http://www.kayak.com|https://res.cloud...|https://www.faceb...|http://twitter.co...|https://www.linke...|           nasdaq:KYAK|     Stamford|   Connecticut|         USA|KAYAK helps milli...|         true|\n",
            "|88fd97b3-fe59-525...| ooVoo|organization|     company|https://www.crunc...|      oovoo.com|http://www.oovoo.com|https://res.cloud...|http://www.facebo...|http://twitter.co...|                null|                  null|     New York|      New York|         USA|ooVoo is a social...|         true|\n",
            "|0b5a5055-a4e5-4f9...| 63336|organization|     company|https://www.crunc...|      63336.com|http://www.63336.com|https://res.cloud...|http://www.facebo...|http://twitter.co...|                null|                  null|       London|       England|         GBR|63336 is a AI-ena...|         true|\n",
            "|711e15e2-b358-a01...| TipiT|organization|     company|https://www.crunc...|       tipit.to|     http://tipit.to|https://res.cloud...|http://www.facebo...|http://twitter.co...|                null|                  null|        Delft|  Zuid-Holland|         NLD|TipiT is a servic...|         true|\n",
            "|755bbfae-619e-a8b...| beweb|organization|     company|https://www.crunc...|    beweb.co.nz|http://www.beweb....|https://res.cloud...|https://www.faceb...|                null|https://www.linke...|                  null|     Auckland|      Auckland|         NZL|Beweb is a web de...|         true|\n",
            "|7f5d8bcd-5e3d-97e...|   CSC|organization|     company|https://www.crunc...|        csc.com|  http://www.csc.com|https://res.cloud...|http://www.facebo...|http://twitter.co...|http://www.linked...|              nyse:CSC| Falls Church|      Virginia|         USA|CSC is an IT serv...|         true|\n",
            "|1d77f9fb-4db1-603...|   CBC|organization|     company|https://www.crunc...|         cbc.ca|  http://www.cbc.ca/|https://res.cloud...|http://www.facebo...|http://twitter.co...|https://www.linke...|                  null|       Ottawa|       Ontario|         CAN|CBC is a Canadian...|         true|\n",
            "|26d5d37b-8be2-242...|   OQO|organization|     company|https://www.crunc...|        oqo.com|  http://www.oqo.com|https://res.cloud...|                null|                null|                null|                  null|San Francisco|    California|         USA|OQO makes ultra-m...|         true|\n",
            "|ab35b82f-7bbc-2a3...|   SAS|organization|     company|https://www.crunc...|        sas.com|  http://www.sas.com|https://res.cloud...|http://www.facebo...|http://twitter.co...|http://www.linked...|                  null|         Cary|North Carolina|         USA|SAS provides adva...|         true|\n",
            "|ed77a13b-0930-a3c...|   e4e|organization|     company|https://www.crunc...|    nthrive.com|https://www.nthri...|https://res.cloud...|https://www.faceb...|https://twitter.c...|https://www.linke...|                  null|  Santa Clara|    California|         USA|e4e, a business p...|         true|\n",
            "|31c6bfe8-7986-c69...|   PHP|organization|     company|https://www.crunc...|        php.net| http://www.php.net/|https://res.cloud...|http://www.facebo...|http://twitter.co...|                null|                  null|  Little Rock|      Arkansas|         USA|PHP is a coding l...|         true|\n",
            "|e90ac051-7310-85d...|   ivi|organization|     company|https://www.crunc...|         ivi.tv|   http://www.ivi.tv|https://res.cloud...|https://www.faceb...|http://www.twitte...|https://www.linke...|                  null|       Moscow|   Moscow City|         RUS|ivi is a video-on...|         true|\n",
            "|368cb93b-7e52-ce2...|  ADDA|organization|     company|https://www.crunc...|        adda.io|     https://adda.io|https://res.cloud...|https://www.faceb...|https://twitter.c...|https://www.linke...|                  null|    Bangalore|     Karnataka|         IND|ADDA is a softwar...|         true|\n",
            "|3c8215a4-a9e8-54b...|izeezi|organization|     company|https://www.crunc...|     izeezi.com|http://www.izeezi...|https://res.cloud...|                null|                null|                null|                  null|   Chippenham|     Wiltshire|         GBR|Personalised digi...|         true|\n",
            "|6fbdd55b-42dd-9a7...| siXis|organization|     company|https://www.crunc...|   sixisinc.com|http://www.sixisi...|https://res.cloud...|                null|                null|                null|                  null|       Durham|North Carolina|         USA|siXis is a semico...|         true|\n",
            "|8c526ad9-d04b-f6e...| STATS|organization|     company|https://www.crunc...|      stats.com|http://www.stats.com|https://res.cloud...|https://www.faceb...|http://twitter.co...|https://www.linke...|                  null|      Chicago|      Illinois|         USA|800+ global organ...|         true|\n",
            "|10bc1232-661d-a70...|   8x8|organization|     company|https://www.crunc...|        8x8.com| https://www.8x8.com|https://res.cloud...|http://www.facebo...|http://twitter.co...|http://www.linked...|             nyse:EGHT|     San Jose|    California|         USA|8x8 offers secure...|         true|\n",
            "|ed535175-8478-05d...|   IXI|organization|     company|https://www.crunc...|    ixicorp.com|http://www.ixicor...|https://res.cloud...|                null|                null|                null|                  null|       Mclean|      Virginia|         USA|IXI offers insigh...|         true|\n",
            "|ce3f9450-0287-180...|   GLG|organization|     company|https://www.crunc...|glginsights.com|http://glginsight...|https://res.cloud...|https://www.faceb...|http://twitter.co...|https://www.linke...|                  null|     New York|      New York|         USA|The world's insig...|         true|\n",
            "|2a04be06-db0c-afb...|   2e2|organization|     company|https://www.crunc...|        2e2.com|  http://www.2e2.com|https://res.cloud...|http://www.facebo...|http://twitter.co...|                null|                  null|      Newbury|West Berkshire|         GBR|2e2 is a systems ...|         true|\n",
            "+--------------------+------+------------+------------+--------------------+---------------+--------------------+--------------------+--------------------+--------------------+--------------------+----------------------+-------------+--------------+------------+--------------------+-------------+\n",
            "only showing top 20 rows\n",
            "\n",
            "None\n",
            "There's 808 entities with names that are palindromes.\n"
          ]
        }
      ]
    }
  ]
}